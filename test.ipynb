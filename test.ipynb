{
 "cells": [
  {
   "cell_type": "code",
   "id": "initial_id",
   "metadata": {
    "collapsed": true,
    "ExecuteTime": {
     "end_time": "2024-11-18T05:27:21.511424Z",
     "start_time": "2024-11-18T05:27:21.504910Z"
    }
   },
   "source": [
    "from pymilvus import MilvusClient\n",
    "\n",
    "client = MilvusClient()"
   ],
   "outputs": [],
   "execution_count": 4
  },
  {
   "metadata": {
    "ExecuteTime": {
     "end_time": "2024-11-18T05:54:13.198746Z",
     "start_time": "2024-11-18T05:54:13.190337Z"
    }
   },
   "cell_type": "code",
   "source": [
    "ids = [str(i) for i in [1,2,3,4]]\n",
    "expr = f'id in [\"{\"\\\",\\\"\".join(ids)}\"]'\n",
    "expr"
   ],
   "id": "31677efec25794f4",
   "outputs": [
    {
     "data": {
      "text/plain": [
       "'id in [\"1\",\"2\",\"3\",\"4\"]'"
      ]
     },
     "execution_count": 6,
     "metadata": {},
     "output_type": "execute_result"
    }
   ],
   "execution_count": 6
  },
  {
   "metadata": {
    "ExecuteTime": {
     "end_time": "2024-11-18T06:01:14.820816Z",
     "start_time": "2024-11-18T06:01:14.815971Z"
    }
   },
   "cell_type": "code",
   "source": "\"\\\",\\\"\".join(ids)",
   "id": "20e58ea047935e72",
   "outputs": [
    {
     "data": {
      "text/plain": [
       "'1\",\"2\",\"3\",\"4'"
      ]
     },
     "execution_count": 7,
     "metadata": {},
     "output_type": "execute_result"
    }
   ],
   "execution_count": 7
  }
 ],
 "metadata": {
  "kernelspec": {
   "display_name": "Python 3",
   "language": "python",
   "name": "python3"
  },
  "language_info": {
   "codemirror_mode": {
    "name": "ipython",
    "version": 2
   },
   "file_extension": ".py",
   "mimetype": "text/x-python",
   "name": "python",
   "nbconvert_exporter": "python",
   "pygments_lexer": "ipython2",
   "version": "2.7.6"
  }
 },
 "nbformat": 4,
 "nbformat_minor": 5
}
