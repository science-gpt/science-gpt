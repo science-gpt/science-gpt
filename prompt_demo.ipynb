{
 "cells": [
  {
   "cell_type": "code",
   "execution_count": 3,
   "metadata": {},
   "outputs": [
    {
     "ename": "ModuleNotFoundError",
     "evalue": "No module named 'prompt'",
     "output_type": "error",
     "traceback": [
      "\u001b[1;31m---------------------------------------------------------------------------\u001b[0m",
      "\u001b[1;31mModuleNotFoundError\u001b[0m                       Traceback (most recent call last)",
      "Cell \u001b[1;32mIn[3], line 2\u001b[0m\n\u001b[0;32m      1\u001b[0m \u001b[38;5;28;01mfrom\u001b[39;00m \u001b[38;5;21;01msrc\u001b[39;00m\u001b[38;5;21;01m.\u001b[39;00m\u001b[38;5;21;01mprompt\u001b[39;00m\u001b[38;5;21;01m.\u001b[39;00m\u001b[38;5;21;01mbase_prompt\u001b[39;00m \u001b[38;5;28;01mimport\u001b[39;00m ConcretePrompt, PromptComponent, PromptDecorator\n\u001b[1;32m----> 2\u001b[0m \u001b[38;5;28;01mfrom\u001b[39;00m \u001b[38;5;21;01msrc\u001b[39;00m\u001b[38;5;21;01m.\u001b[39;00m\u001b[38;5;21;01mprompt\u001b[39;00m\u001b[38;5;21;01m.\u001b[39;00m\u001b[38;5;21;01mretrieval\u001b[39;00m \u001b[38;5;28;01mimport\u001b[39;00m TestRetrieval\n\u001b[0;32m      3\u001b[0m \u001b[38;5;28;01mfrom\u001b[39;00m \u001b[38;5;21;01msrc\u001b[39;00m\u001b[38;5;21;01m.\u001b[39;00m\u001b[38;5;21;01mprompt\u001b[39;00m\u001b[38;5;21;01m.\u001b[39;00m\u001b[38;5;21;01mprompts\u001b[39;00m \u001b[38;5;28;01mimport\u001b[39;00m TestDecorator\n",
      "File \u001b[1;32mc:\\Users\\BHU\\OneDrive - HC-SC PHAC-ASPC\\Desktop\\workspace\\science-gpt\\src\\prompt\\retrieval.py:1\u001b[0m\n\u001b[1;32m----> 1\u001b[0m \u001b[38;5;28;01mfrom\u001b[39;00m \u001b[38;5;21;01mprompt\u001b[39;00m\u001b[38;5;21;01m.\u001b[39;00m\u001b[38;5;21;01mbase_prompt\u001b[39;00m \u001b[38;5;28;01mimport\u001b[39;00m PromptDecorator, PromptComponent\n\u001b[0;32m      2\u001b[0m \u001b[38;5;28;01mfrom\u001b[39;00m \u001b[38;5;21;01mlangchain\u001b[39;00m\u001b[38;5;21;01m.\u001b[39;00m\u001b[38;5;21;01mvectorstores\u001b[39;00m\u001b[38;5;21;01m.\u001b[39;00m\u001b[38;5;21;01mchroma\u001b[39;00m \u001b[38;5;28;01mimport\u001b[39;00m Chroma\n\u001b[0;32m      3\u001b[0m \u001b[38;5;28;01mfrom\u001b[39;00m \u001b[38;5;21;01m.\u001b[39;00m\u001b[38;5;21;01m.\u001b[39;00m\u001b[38;5;21;01mmodels\u001b[39;00m\u001b[38;5;21;01m.\u001b[39;00m\u001b[38;5;21;01mconfig\u001b[39;00m \u001b[38;5;28;01mimport\u001b[39;00m ModelConfig\n",
      "\u001b[1;31mModuleNotFoundError\u001b[0m: No module named 'prompt'"
     ]
    }
   ],
   "source": [
    "from src.prompt.base_prompt import ConcretePrompt, PromptComponent, PromptDecorator\n",
    "from src.prompt.retrieval import TestRetrieval\n",
    "from src.prompt.prompts import TestDecorator\n"
   ]
  },
  {
   "cell_type": "code",
   "execution_count": null,
   "metadata": {},
   "outputs": [
    {
     "name": "stdout",
     "output_type": "stream",
     "text": [
      "\n",
      "    You are a helpful chatbot that answers questions from the perspective \n",
      "    of a regulatory toxicologist. You should answer the user's question in \n",
      "    plain and precise language based on the below context. If the context \n",
      "    doesn't contain any relevant information to the question, don't make \n",
      "    something up. Instead, just say \"I don't have information on that \n",
      "    topic\".\n",
      "\n",
      "    \n",
      "    context \n",
      " context \n",
      " context\n",
      "    Test test test test\n",
      "    {decorate}\n",
      "    \n",
      "\n",
      "    <query>\n",
      "    the query\n",
      "    </query>\n",
      "    \n"
     ]
    }
   ],
   "source": [
    "cprompt = TestRetrieval(ConcretePrompt())\n",
    "\n",
    "print(cprompt.get_prompt(\"the query\"))\n"
   ]
  },
  {
   "cell_type": "code",
   "execution_count": null,
   "metadata": {},
   "outputs": [
    {
     "name": "stdout",
     "output_type": "stream",
     "text": [
      "\n",
      "    You are a helpful chatbot that answers questions from the perspective \n",
      "    of a regulatory toxicologist. You should answer the user's question in \n",
      "    plain and precise language based on the below context. If the context \n",
      "    doesn't contain any relevant information to the question, don't make \n",
      "    something up. Instead, just say \"I don't have information on that \n",
      "    topic\".\n",
      "\n",
      "    \n",
      "    context \n",
      " context \n",
      " context\n",
      "    Test test test test\n",
      "    \n",
      "    context \n",
      " context \n",
      " context\n",
      "    Test test test test\n",
      "    {decorate}\n",
      "    \n",
      "    \n",
      "\n",
      "    <query>\n",
      "    the query\n",
      "    </query>\n",
      "    \n"
     ]
    }
   ],
   "source": [
    "cprompt = TestDecorator(TestRetrieval(ConcretePrompt()))\n",
    "\n",
    "print(cprompt.get_prompt(\"the query\"))"
   ]
  }
 ],
 "metadata": {
  "kernelspec": {
   "display_name": "Python 3",
   "language": "python",
   "name": "python3"
  },
  "language_info": {
   "codemirror_mode": {
    "name": "ipython",
    "version": 3
   },
   "file_extension": ".py",
   "mimetype": "text/x-python",
   "name": "python",
   "nbconvert_exporter": "python",
   "pygments_lexer": "ipython3",
   "version": "3.12.3"
  }
 },
 "nbformat": 4,
 "nbformat_minor": 2
}
