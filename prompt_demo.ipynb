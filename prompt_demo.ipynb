{
 "cells": [
  {
   "cell_type": "code",
   "execution_count": null,
   "metadata": {},
   "outputs": [],
   "source": [
    "import sys\n",
    "sys.path.insert(0, \"./src\")\n",
    "from prompt.base_prompt import ConcretePrompt\n",
    "from prompt.retrieval import TestRetrieval\n",
    "from prompt.prompts import TestDecorator\n"
   ]
  },
  {
   "cell_type": "code",
   "execution_count": 2,
   "metadata": {},
   "outputs": [
    {
     "name": "stdout",
     "output_type": "stream",
     "text": [
      "\n",
      "    You are a helpful chatbot that answers questions from the perspective \n",
      "    of a regulatory toxicologist. You should answer the user's question in \n",
      "    plain and precise language based on the below context. If the context \n",
      "    doesn't contain any relevant information to the question, don't make \n",
      "    something up. Instead, just say \"I don't have information on that \n",
      "    topic\".\n",
      "\n",
      "    \n",
      "    context \n",
      " context \n",
      " context\n",
      "    Test test test test\n",
      "    {decorate}\n",
      "    \n",
      "\n",
      "    <query>\n",
      "    the query\n",
      "    </query>\n",
      "    \n"
     ]
    }
   ],
   "source": [
    "cprompt = TestRetrieval(ConcretePrompt())\n",
    "\n",
    "print(cprompt.get_prompt(\"the query\"))\n"
   ]
  },
  {
   "cell_type": "code",
   "execution_count": 3,
   "metadata": {},
   "outputs": [
    {
     "name": "stdout",
     "output_type": "stream",
     "text": [
      "\n",
      "    You are a helpful chatbot that answers questions from the perspective \n",
      "    of a regulatory toxicologist. You should answer the user's question in \n",
      "    plain and precise language based on the below context. If the context \n",
      "    doesn't contain any relevant information to the question, don't make \n",
      "    something up. Instead, just say \"I don't have information on that \n",
      "    topic\".\n",
      "\n",
      "    \n",
      "    context \n",
      " context \n",
      " context\n",
      "    Test test test test\n",
      "    \n",
      "    {decorate}\n",
      "    Test Decorator Decorator Decorator\n",
      "    \n",
      "    \n",
      "\n",
      "    <query>\n",
      "    the query\n",
      "    </query>\n",
      "    \n"
     ]
    }
   ],
   "source": [
    "cprompt = TestDecorator(TestRetrieval(ConcretePrompt()))\n",
    "\n",
    "print(cprompt.get_prompt(\"the query\"))"
   ]
  }
 ],
 "metadata": {
  "kernelspec": {
   "display_name": "Python 3",
   "language": "python",
   "name": "python3"
  },
  "language_info": {
   "codemirror_mode": {
    "name": "ipython",
    "version": 3
   },
   "file_extension": ".py",
   "mimetype": "text/x-python",
   "name": "python",
   "nbconvert_exporter": "python",
   "pygments_lexer": "ipython3",
   "version": "3.10.11"
  }
 },
 "nbformat": 4,
 "nbformat_minor": 2
}
