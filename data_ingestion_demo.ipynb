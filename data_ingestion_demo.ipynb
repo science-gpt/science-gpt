{
 "cells": [
  {
   "cell_type": "code",
   "execution_count": 1,
   "metadata": {},
   "outputs": [
    {
     "name": "stderr",
     "output_type": "stream",
     "text": [
      "/home/areelk/workspace/pmra/science-gpt/venv/lib/python3.12/site-packages/pydantic/_internal/_fields.py:160: UserWarning: Field \"model_name\" has conflict with protected namespace \"model_\".\n",
      "\n",
      "You may be able to resolve this warning by setting `model_config['protected_namespaces'] = ()`.\n",
      "  warnings.warn(\n",
      "/home/areelk/workspace/pmra/science-gpt/venv/lib/python3.12/site-packages/pydantic/_internal/_fields.py:160: UserWarning: Field \"model_params\" has conflict with protected namespace \"model_\".\n",
      "\n",
      "You may be able to resolve this warning by setting `model_config['protected_namespaces'] = ()`.\n",
      "  warnings.warn(\n",
      "/home/areelk/workspace/pmra/science-gpt/venv/lib/python3.12/site-packages/pydantic/_internal/_fields.py:160: UserWarning: Field \"model_auth\" has conflict with protected namespace \"model_\".\n",
      "\n",
      "You may be able to resolve this warning by setting `model_config['protected_namespaces'] = ()`.\n",
      "  warnings.warn(\n"
     ]
    }
   ],
   "source": [
    "import sys\n",
    "sys.path.insert(0, \"./src\")\n",
    "\n",
    "from data_broker.data_broker import DataBroker\n",
    "from orchestrator.utils import load_config\n",
    "from ingestion.extraction import PDFData\n",
    "import os"
   ]
  },
  {
   "cell_type": "code",
   "execution_count": 2,
   "metadata": {},
   "outputs": [],
   "source": [
    "pdf = PDFData(\n",
    "    filepath=\"Acephate.pdf\",\n",
    "    name=\"test with acephate pdf\",\n",
    "    data_type=\"pdf\",\n",
    ")"
   ]
  },
  {
   "cell_type": "code",
   "execution_count": 3,
   "metadata": {},
   "outputs": [],
   "source": [
    "config = load_config(\n",
    "    config_name=\"system_config\", config_dir=f\"{os.getcwd()}/src/configs\"\n",
    ")"
   ]
  },
  {
   "cell_type": "code",
   "execution_count": 4,
   "metadata": {},
   "outputs": [
    {
     "name": "stderr",
     "output_type": "stream",
     "text": [
      "/home/areelk/workspace/pmra/science-gpt/venv/lib/python3.12/site-packages/sentence_transformers/cross_encoder/CrossEncoder.py:11: TqdmWarning: IProgress not found. Please update jupyter and ipywidgets. See https://ipywidgets.readthedocs.io/en/stable/user_install.html\n",
      "  from tqdm.autonotebook import tqdm, trange\n",
      "/home/areelk/workspace/pmra/science-gpt/venv/lib/python3.12/site-packages/transformers/tokenization_utils_base.py:1601: FutureWarning: `clean_up_tokenization_spaces` was not set. It will be set to `True` by default. This behavior will be depracted in transformers v4.45, and will be then set to `False` by default. For more details check this issue: https://github.com/huggingface/transformers/issues/31884\n",
      "  warnings.warn(\n"
     ]
    }
   ],
   "source": [
    "test = DataBroker(config)"
   ]
  },
  {
   "cell_type": "code",
   "execution_count": 5,
   "metadata": {},
   "outputs": [],
   "source": [
    "test.insert(pdf)"
   ]
  },
  {
   "cell_type": "code",
   "execution_count": 6,
   "metadata": {},
   "outputs": [
    {
     "data": {
      "text/plain": [
       "[[SearchResult(id='test with acephate pdf - Sentence 3', distance=0.7128183841705322, metadata=None, document='The toxicology of acephate was eval uated by the Joint Meeting in 1976, 1982, \\n1984, 1987, 1988, 1990 and 2002.'),\n",
       "  SearchResult(id='test with acephate pdf - Sentence 204', distance=0.714034378528595, metadata=None, document='Groups of seven volunteers received acephate as si ngle oral doses at up to1.2 mg/kg bw \\n(men) and 1 mg/kg bw (women).'),\n",
       "  SearchResult(id='test with acephate pdf - Sentence 8', distance=0.7366957664489746, metadata=None, document='The present Meeting re-evaluated acephate because new data had been submitted, including \\na study of metabolism in rats, a short-term study o f neurotoxicity in rats, a study of developmental \\n4\\nACEPHATE 3–16 JMPR 2005 neurotoxicity in rats and a 28-day study in humans.'),\n",
       "  SearchResult(id='test with acephate pdf - Sentence 17', distance=0.7387860417366028, metadata=None, document='The \\ntoxicokinetics in animals receiving acephate at a d ose of 100 mg/kg bw were proportional to those \\nobserved in animals receiving acephate at a dose of  25 mg/kg bw, the C max  in rat plasma being \\n83–98 ȝg/g acephate equivalents, T max occurring at 0.5 h after dosing, and AUC 0–168h being \\n560 ȝgu h g \\x101, respectively.'),\n",
       "  SearchResult(id='test with acephate pdf - Sentence 128', distance=0.751031219959259, metadata=None, document='10 \\nACEPHATE 3–16 JMPR 2005 Table 5.')]]"
      ]
     },
     "execution_count": 6,
     "metadata": {},
     "output_type": "execute_result"
    }
   ],
   "source": [
    "test.search([\"What is acephate?\"])"
   ]
  },
  {
   "cell_type": "code",
   "execution_count": null,
   "metadata": {},
   "outputs": [],
   "source": []
  }
 ],
 "metadata": {
  "kernelspec": {
   "display_name": "venv",
   "language": "python",
   "name": "python3"
  },
  "language_info": {
   "codemirror_mode": {
    "name": "ipython",
    "version": 3
   },
   "file_extension": ".py",
   "mimetype": "text/x-python",
   "name": "python",
   "nbconvert_exporter": "python",
   "pygments_lexer": "ipython3",
   "version": "3.12.3"
  }
 },
 "nbformat": 4,
 "nbformat_minor": 2
}
