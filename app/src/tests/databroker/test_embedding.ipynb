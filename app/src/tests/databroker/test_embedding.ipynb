{
 "cells": [
  {
   "cell_type": "code",
   "execution_count": 12,
   "metadata": {},
   "outputs": [
    {
     "name": "stdout",
     "output_type": "stream",
     "text": [
      "/Users/bhu/workplace/science-gpt/app/src\n"
     ]
    }
   ],
   "source": [
    "import os\n",
    "import sys\n",
    "\n",
    "current_folder = globals()['_dh'][0]\n",
    "\n",
    "sys.path.insert(0, os.path.abspath(os.path.join(os.path.dirname(current_folder), \"../../src/\")))\n",
    "\n",
    "from databroker.databroker import DataBroker\n",
    "\n",
    "from ingestion.embedding import Embedder, HuggingFaceEmbedder, OllamaEmbedder\n",
    "from langchain_community.embeddings.ollama import OllamaEmbeddings"
   ]
  },
  {
   "cell_type": "code",
   "execution_count": null,
   "metadata": {},
   "outputs": [],
   "source": [
    "model = OllamaEmbeddings(model=\"mxbai-embed-large\", base_url=\"http://localhost:11434\")"
   ]
  }
 ],
 "metadata": {
  "kernelspec": {
   "display_name": "sciencegpt",
   "language": "python",
   "name": "python3"
  },
  "language_info": {
   "codemirror_mode": {
    "name": "ipython",
    "version": 3
   },
   "file_extension": ".py",
   "mimetype": "text/x-python",
   "name": "python",
   "nbconvert_exporter": "python",
   "pygments_lexer": "ipython3",
   "version": "3.12.3"
  }
 },
 "nbformat": 4,
 "nbformat_minor": 2
}
