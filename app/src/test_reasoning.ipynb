{
 "cells": [
  {
   "cell_type": "code",
   "execution_count": null,
   "metadata": {},
   "outputs": [
    {
     "name": "stderr",
     "output_type": "stream",
     "text": [
      "/opt/anaconda3/envs/sciencegpt/lib/python3.12/site-packages/pydantic/_internal/_fields.py:192: UserWarning: Field name \"text\" in \"AgentOutput\" shadows an attribute in parent \"LLMInterface\"\n",
      "  warnings.warn(\n",
      "/opt/anaconda3/envs/sciencegpt/lib/python3.12/site-packages/tqdm/auto.py:21: TqdmWarning: IProgress not found. Please update jupyter and ipywidgets. See https://ipywidgets.readthedocs.io/en/stable/user_install.html\n",
      "  from .autonotebook import tqdm as notebook_tqdm\n"
     ]
    },
    {
     "name": "stdout",
     "output_type": "stream",
     "text": [
      "Running RewooAgent with instruction: why is the sky blue? Look at local user uploaded documents.\n",
      "#Plan1: I will first search the local user-uploaded documents to see if there is any relevant information explaining why the sky is blue. \n",
      "#E1: local_search[why is the sky blue?]\n",
      "\n",
      "#Plan2: If I do not find sufficient information in the user-uploaded documents, I will then perform a Google search to gather general knowledge on the topic.\n",
      "#E2: google_search[why is the sky blue?]\n",
      "\n",
      "#Plan3: If the Google search results provide any credible sources, I will collect specific insights from them to form a comprehensive answer.\n",
      "#E3: google_search[details on why the sky is blue]\n"
     ]
    },
    {
     "name": "stderr",
     "output_type": "stream",
     "text": [
      "WARNING:root:Removing unpickleable attribute text\n",
      "WARNING:root:Removing unpickleable attribute text\n"
     ]
    },
    {
     "data": {
      "text/plain": [
       "AgentOutput(id_='e63c6033-0f96-4eba-b0c4-a02387b30e0f', embedding=None, metadata={}, excluded_embed_metadata_keys=[], excluded_llm_metadata_keys=[], relationships={}, metadata_template='{key}: {value}', metadata_separator='\\n', text_resource=MediaResource(embeddings=None, data=None, text='', path=None, url=None, mimetype=None), image_resource=None, audio_resource=None, video_resource=None, text_template='{metadata_str}\\n\\n{content}', content='', source=None, channel=None, candidates=[], completion_tokens=-1, total_tokens=-1, prompt_tokens=-1, total_cost=0, logits=[], messages=[], logprobs=[], type='agent', agent_type=<AgentType.rewoo: 'rewoo'>, status='failed', error=\"'DataBroker' object has no attribute 'embedder'\", intermediate_steps=None)"
      ]
     },
     "execution_count": 1,
     "metadata": {},
     "output_type": "execute_result"
    }
   ],
   "source": [
    "import toml\n",
    "\n",
    "from reasoning.llms import AzureChatOpenAI\n",
    "\n",
    "from reasoning.agents import (\n",
    "    RewooAgent,\n",
    "    GoogleSearchTool,\n",
    "    WikipediaTool,\n",
    "    LocalSearchTool,\n",
    "    LLMTool\n",
    ")\n",
    "\n",
    "# database_config = SimpleNamespace(\n",
    "#     username=\"bhux\",\n",
    "#     userpath=st.session_state.userpath,\n",
    "#     embedding_model=system_config.embedding.embedding_model,\n",
    "#     chunking_method=system_config.chunking.chunking_method,\n",
    "#     pdf_extractor=system_config.extraction,\n",
    "#     vector_store=system_config.vector_db,\n",
    "# )\n",
    "# databroker = DataBroker(database_config)\n",
    "\n",
    "model_key = \"gpt40-api\"\n",
    "secrets = toml.load(\"secrets.toml\")\n",
    "\n",
    "llm = AzureChatOpenAI(\n",
    "    api_key= secrets[model_key][\"api_key\"],\n",
    "    api_version= secrets[model_key][\"api_version\"],\n",
    "    azure_deployment=\"gpt-4o-mini\",\n",
    "    azure_endpoint= secrets[model_key][\"azure_endpoint\"],\n",
    ")\n",
    "\n",
    "plugins = [\n",
    "    GoogleSearchTool(),\n",
    "    WikipediaTool(),\n",
    "    LLMTool(llm=llm),\n",
    "    LocalSearchTool()\n",
    "]\n",
    "\n",
    "agent = RewooAgent(planner_llm=llm, solver_llm=llm, plugins=plugins)\n",
    "\n",
    "response = agent(\"why is the sky blue? Look at local user uploaded documents.\")\n",
    "\n",
    "response\n",
    "\n"
   ]
  }
 ],
 "metadata": {
  "kernelspec": {
   "display_name": "sciencegpt",
   "language": "python",
   "name": "python3"
  },
  "language_info": {
   "codemirror_mode": {
    "name": "ipython",
    "version": 3
   },
   "file_extension": ".py",
   "mimetype": "text/x-python",
   "name": "python",
   "nbconvert_exporter": "python",
   "pygments_lexer": "ipython3",
   "version": "3.12.3"
  }
 },
 "nbformat": 4,
 "nbformat_minor": 2
}
